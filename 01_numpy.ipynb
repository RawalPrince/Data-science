{
 "cells": [
  {
   "cell_type": "code",
   "execution_count": 52,
   "id": "0f88a20f-83f5-466a-b096-2f55a38171ed",
   "metadata": {},
   "outputs": [
    {
     "name": "stdout",
     "output_type": "stream",
     "text": [
      "Python list addition time: 0.04041123390197754\n",
      "NumPy array addition time: 0.012276887893676758\n"
     ]
    }
   ],
   "source": [
    " import numpy as np\n",
    "import time\n",
    "\n",
    "# Python list\n",
    "size = 1_000_000\n",
    "list1 = list(range(size))\n",
    "list2 = list(range(size))\n",
    "\n",
    "start = time.time()\n",
    "result = [x + y for x, y in zip(list1, list2)]\n",
    "end = time.time()\n",
    "print(\"Python list addition time:\", end - start)\n",
    "\n",
    "# NumPy array\n",
    "arr1 = np.array(list1)\n",
    "arr2 = np.array(list2)\n",
    "\n",
    "start = time.time()\n",
    "result = arr1 + arr2  # Vectorized operation\n",
    "end = time.time()\n",
    "print(\"NumPy array addition time:\", end - start)"
   ]
  },
  {
   "cell_type": "code",
   "execution_count": 130,
   "id": "f957f204-effa-49b4-a42e-7dcc0802acab",
   "metadata": {},
   "outputs": [
    {
     "name": "stdout",
     "output_type": "stream",
     "text": [
      "Python list square time: 0.0004220008850097656\n",
      "NumPy array square time: 0.00018215179443359375\n"
     ]
    }
   ],
   "source": [
    "import numpy as np\n",
    "import time\n",
    "\n",
    "# Python list\n",
    "size = 1000\n",
    "list1 = list(range(size))  # make sure 'list' hasn't been redefined\n",
    "\n",
    "# NumPy array\n",
    "arr = np.array(list1)\n",
    "\n",
    "start = time.time()\n",
    "list_squares = [x ** 2 for x in list1]  # use 'list1', not 'list'\n",
    "end = time.time()\n",
    "print(\"Python list square time:\", end - start)\n",
    "\n",
    "start = time.time()\n",
    "numpy_square = arr ** 2\n",
    "end = time.time()\n",
    "print(\"NumPy array square time:\", end - start)"
   ]
  },
  {
   "cell_type": "code",
   "execution_count": 122,
   "id": "6e80d381-4ca0-46a5-91c7-9005efa99c61",
   "metadata": {},
   "outputs": [],
   "source": [
    "del list"
   ]
  },
  {
   "cell_type": "code",
   "execution_count": null,
   "id": "4e62e0a3-0faa-4903-9979-fc04b59a9bd7",
   "metadata": {},
   "outputs": [],
   "source": []
  }
 ],
 "metadata": {
  "kernelspec": {
   "display_name": "Python [conda env:base] *",
   "language": "python",
   "name": "conda-base-py"
  },
  "language_info": {
   "codemirror_mode": {
    "name": "ipython",
    "version": 3
   },
   "file_extension": ".py",
   "mimetype": "text/x-python",
   "name": "python",
   "nbconvert_exporter": "python",
   "pygments_lexer": "ipython3",
   "version": "3.12.7"
  }
 },
 "nbformat": 4,
 "nbformat_minor": 5
}
